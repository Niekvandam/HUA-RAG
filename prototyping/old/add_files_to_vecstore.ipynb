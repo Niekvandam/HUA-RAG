{
 "cells": [
  {
   "cell_type": "markdown",
   "metadata": {},
   "source": [
    "## Generic imports"
   ]
  },
  {
   "cell_type": "code",
   "execution_count": 1,
   "metadata": {},
   "outputs": [],
   "source": [
    "from dotenv import load_dotenv\n",
    "import logging\n",
    "import os\n",
    "import sys"
   ]
  },
  {
   "cell_type": "code",
   "execution_count": 2,
   "metadata": {},
   "outputs": [],
   "source": [
    "logging.basicConfig(level=logging.INFO, format='%(asctime)s - %(name)s - %(levelname)s - %(message)s')\n",
    "logger = logging.getLogger(__name__)"
   ]
  },
  {
   "cell_type": "code",
   "execution_count": 3,
   "metadata": {},
   "outputs": [],
   "source": [
    "if not load_dotenv():\n",
    "    logger.error(\"No .env file found\")"
   ]
  },
  {
   "cell_type": "markdown",
   "metadata": {},
   "source": [
    "## Setup Haystack pipeline for indexing"
   ]
  },
  {
   "cell_type": "markdown",
   "metadata": {},
   "source": [
    "### Basic imports for pipeline"
   ]
  },
  {
   "cell_type": "code",
   "execution_count": 4,
   "metadata": {},
   "outputs": [
    {
     "name": "stderr",
     "output_type": "stream",
     "text": [
      "e:\\programming\\HUA-rag\\.venv\\Lib\\site-packages\\tqdm\\auto.py:21: TqdmWarning: IProgress not found. Please update jupyter and ipywidgets. See https://ipywidgets.readthedocs.io/en/stable/user_install.html\n",
      "  from .autonotebook import tqdm as notebook_tqdm\n",
      "None of PyTorch, TensorFlow >= 2.0, or Flax have been found. Models won't be available and only tokenizers, configuration and file/data utilities can be used.\n"
     ]
    }
   ],
   "source": [
    "from haystack_integrations.document_stores.pinecone import PineconeDocumentStore\n",
    "from haystack.components.embedders import OpenAIDocumentEmbedder\n",
    "from haystack.utils import Secret\n",
    "from haystack.document_stores.types.policy import DuplicatePolicy\n",
    "from haystack.components.writers import DocumentWriter\n",
    "import os"
   ]
  },
  {
   "cell_type": "markdown",
   "metadata": {},
   "source": [
    "### Creating some classes\n",
    "Haystack does not allow repeated use of the same instance in its pipelines. To combat, I readily create methods here to instantiate all (or some) classes required in my pipeline"
   ]
  },
  {
   "cell_type": "code",
   "execution_count": 7,
   "metadata": {},
   "outputs": [],
   "source": [
    "\n",
    "def create_docstore() -> PineconeDocumentStore:\n",
    "    return PineconeDocumentStore(\n",
    "        api_key=Secret.from_env_var(\"PINECONE_API_KEY\"),\n",
    "        index=\"archiefutrecht\", # is nu statisch, raad aan gewoon in .env te zetten\n",
    "        dimension=1536, # text-embedding-3-small\n",
    "    )\n",
    "\n",
    "def create_document_embedder() -> OpenAIDocumentEmbedder:\n",
    "    return OpenAIDocumentEmbedder(\n",
    "        model=\"text-embedding-3-small\",\n",
    "        api_key=Secret.from_env_var(\"OPENAI_API_KEY\"),\n",
    "        meta_fields_to_embed=[\"asdfasdf\", \"asdfasdfasdf\"] # Zorgt ervoor dat niet alleen tekst in embedding wordt meegenomen maar ook gespecificeerde metadata. Vet handig voor als je belangrijke metadata genereert.\n",
    "    )\n",
    "    \n",
    "def create_document_writer(docstore) -> DocumentWriter:\n",
    "    return DocumentWriter(document_store=docstore, policy=DuplicatePolicy.OVERWRITE) \n"
   ]
  },
  {
   "cell_type": "markdown",
   "metadata": {},
   "source": [
    "### Pipeline"
   ]
  },
  {
   "cell_type": "code",
   "execution_count": 8,
   "metadata": {},
   "outputs": [],
   "source": [
    "from haystack import Pipeline\n",
    "from haystack.components.converters import PyPDFToDocument\n",
    "from haystack.components.preprocessors import DocumentCleaner, DocumentSplitter"
   ]
  },
  {
   "cell_type": "code",
   "execution_count": 9,
   "metadata": {},
   "outputs": [],
   "source": [
    "def create_indexing_pipeline() -> Pipeline:\n",
    "    pipeline = Pipeline()\n",
    "    \n",
    "    converter = PyPDFToDocument()\n",
    "    cleaner = DocumentCleaner()\n",
    "    splitter = DocumentSplitter(split_by=\"sentence\", split_length=3)\n",
    "    # enricher = DocumentEnricher() Is for later when we have a defined set of metadata I can generate\n",
    "    embedder = create_document_embedder()\n",
    "    writer = create_document_writer(create_docstore())\n",
    "    \n",
    "    pipeline.add_component(\"converter\", converter)\n",
    "    pipeline.add_component(\"cleaner\", cleaner)\n",
    "    pipeline.add_component(\"splitter\", splitter)\n",
    "    # pipeline.add_component(\"enricher\", enricher)\n",
    "    pipeline.add_component(\"embedder\", embedder)\n",
    "    pipeline.add_component(\"writer\", writer)\n",
    "    \n",
    "    pipeline.connect(\"converter\", \"cleaner\")\n",
    "    pipeline.connect(\"cleaner\", \"splitter\")\n",
    "    # pipeline.connect(\"splitter\", \"enricher\")\n",
    "    pipeline.connect(\"splitter\", \"embedder\")\n",
    "    pipeline.connect(\"embedder\", \"writer\")\n",
    "    \n",
    "    return pipeline\n",
    "    "
   ]
  },
  {
   "cell_type": "markdown",
   "metadata": {},
   "source": [
    "### Processing PDFs"
   ]
  },
  {
   "cell_type": "code",
   "execution_count": 10,
   "metadata": {},
   "outputs": [],
   "source": [
    "def get_doc_paths() -> list:\n",
    "    paths = []\n",
    "    for root, dirs, files in os.walk(\"../data/prototyping\"):\n",
    "        for file in files:\n",
    "            if file.endswith(\".pdf\"):\n",
    "                paths.append(os.path.join(root, file))\n",
    "    return paths\n",
    "\n",
    "def process_files_in_prototyping_folder() -> None: # Long name but it's descriptive :)\n",
    "    pipeline = create_indexing_pipeline()\n",
    "    paths = get_doc_paths()\n",
    "    results = pipeline.run(\n",
    "        data={\"converter\" : {\"sources\": paths}},\n",
    "        include_outputs_from=[\"converter\", \"cleaner\", \"splitter\"]\n",
    "    )\n",
    "    print(results)\n",
    "    "
   ]
  },
  {
   "cell_type": "code",
   "execution_count": 11,
   "metadata": {},
   "outputs": [
    {
     "name": "stderr",
     "output_type": "stream",
     "text": [
      "2024-12-18 21:18:12,012 - haystack.core.pipeline.pipeline - INFO - Running component converter\n",
      "2024-12-18 21:18:12,749 - haystack.core.pipeline.pipeline - INFO - Running component cleaner\n",
      "2024-12-18 21:18:12,750 - haystack.core.pipeline.pipeline - INFO - Running component splitter\n",
      "2024-12-18 21:18:12,754 - haystack.core.pipeline.pipeline - INFO - Running component embedder\n",
      "Calculating embeddings: 0it [00:00, ?it/s]2024-12-18 21:18:13,930 - httpx - INFO - HTTP Request: POST https://api.openai.com/v1/embeddings \"HTTP/1.1 200 OK\"\n",
      "Calculating embeddings: 1it [00:01,  1.79s/it]2024-12-18 21:18:15,170 - httpx - INFO - HTTP Request: POST https://api.openai.com/v1/embeddings \"HTTP/1.1 200 OK\"\n",
      "Calculating embeddings: 2it [00:03,  1.52s/it]\n",
      "2024-12-18 21:18:15,821 - haystack.core.pipeline.pipeline - INFO - Running component writer\n",
      "2024-12-18 21:18:15,824 - pinecone_plugin_interface.logging - INFO - Discovering subpackages in _NamespacePath(['e:\\\\programming\\\\HUA-rag\\\\.venv\\\\Lib\\\\site-packages\\\\pinecone_plugins'])\n",
      "2024-12-18 21:18:15,825 - pinecone_plugin_interface.logging - INFO - Looking for plugins in pinecone_plugins.inference\n",
      "2024-12-18 21:18:15,846 - pinecone_plugin_interface.logging - INFO - Installing plugin inference into Pinecone\n",
      "2024-12-18 21:18:16,152 - haystack_integrations.document_stores.pinecone.document_store - INFO - Connecting to existing index archiefutrecht. `dimension`, `spec`, and `metric` will be ignored.\n",
      "Upserted vectors: 100%|██████████| 59/59 [00:01<00:00, 45.17it/s]"
     ]
    },
    {
     "name": "stdout",
     "output_type": "stream",
     "text": [
      "{'embedder': {'meta': {'model': 'text-embedding-3-small', 'usage': {'prompt_tokens': 7000, 'total_tokens': 7000}}}, 'writer': {'documents_written': 59}, 'converter': {'documents': [Document(id=1c1a4014474742c65f5c84c76935b81f1c6e6c3066e5d1cc3e687c64e7b36e86, content: 'Inleiding\n",
      "Het huisAmerongenenzijnbewoners\n",
      "Deeerstevermeldingvanhet huisteAmerongenisuit 1286. Degraa...', meta: {'file_path': '../data/prototyping\\\\amerongen_intro.pdf'})]}, 'cleaner': {'documents': [Document(id=6da3250e6f903f7100f31d9135f683584a760c6094cd5ebd978bbe10db7fd6e6, content: 'Inleiding\n",
      "Het huisAmerongenenzijnbewoners\n",
      "Deeerstevermeldingvanhet huisteAmerongenisuit 1286. Degraa...', meta: {'file_path': '../data/prototyping\\\\amerongen_intro.pdf'})]}, 'splitter': {'documents': [Document(id=3251752b11c02414006f289f66cfafbb6af8211641e81889148c6edc4413fff6, content: 'Inleiding\n",
      "Het huisAmerongenenzijnbewoners\n",
      "Deeerstevermeldingvanhet huisteAmerongenisuit 1286. Degraa...', meta: {'file_path': '../data/prototyping\\\\amerongen_intro.pdf', 'source_id': '6da3250e6f903f7100f31d9135f683584a760c6094cd5ebd978bbe10db7fd6e6', 'page_number': 1, 'split_id': 0, 'split_idx_start': 0}), Document(id=a3a9fdce59b35f74ebb8c98e3de615cedab125061a7cb564fb6d4f3b4c4e5dce, content: ' Het feit dat erlangsdeRijnomstreeks1234metbehulpvanHollandeendijkaangelegdwasvanSchoonhoventot Amer...', meta: {'file_path': '../data/prototyping\\\\amerongen_intro.pdf', 'source_id': '6da3250e6f903f7100f31d9135f683584a760c6094cd5ebd978bbe10db7fd6e6', 'page_number': 1, 'split_id': 1, 'split_idx_start': 389}), Document(id=af2934078cf8614da4b686b964951c1affd4f7368dc039ae9ff1184de25f5bbb, content: ' Met deheerlijkheidbehoordendezetot debezittingenvandeherenvanAbcoudeenGaasbeek. Zij zoudendoorJacob...', meta: {'file_path': '../data/prototyping\\\\amerongen_intro.pdf', 'source_id': '6da3250e6f903f7100f31d9135f683584a760c6094cd5ebd978bbe10db7fd6e6', 'page_number': 1, 'split_id': 2, 'split_idx_start': 775}), Document(id=2ba85bae8f9ce4b82a88a67270c2caa5a63de7fdf3e5a1bebfc7846b9226d521, content: ' deStatenvanUtrecht wordenuitgegeven.DeBorrevanAmerongens, zoalszij zichgingennoemen, bleventot inde...', meta: {'file_path': '../data/prototyping\\\\amerongen_intro.pdf', 'source_id': '6da3250e6f903f7100f31d9135f683584a760c6094cd5ebd978bbe10db7fd6e6', 'page_number': 1, 'split_id': 3, 'split_idx_start': 1076}), Document(id=2c7f27c36ebb3d014fcbfbd68b81611c20965bc03a961f4c0f7343cab69590ce, content: ' Inhuntijdwerdhet huisgeplunderd, eerst doordeHoekenin1420, daarnadoordeGeldersenin1427. Het huiswas...', meta: {'file_path': '../data/prototyping\\\\amerongen_intro.pdf', 'source_id': '6da3250e6f903f7100f31d9135f683584a760c6094cd5ebd978bbe10db7fd6e6', 'page_number': 1, 'split_id': 4, 'split_idx_start': 1277}), Document(id=69649d5517ad08f1d239b055c1c10a96a1613689da9a1899773c39009eedd7c7, content: 'Tweejaarlaterverkocht hij debezittingaanWillemvanZwieten, diehaar5jaarlaterdoorverkocht aanGijsbrech...', meta: {'file_path': '../data/prototyping\\\\amerongen_intro.pdf', 'source_id': '6da3250e6f903f7100f31d9135f683584a760c6094cd5ebd978bbe10db7fd6e6', 'page_number': 1, 'split_id': 5, 'split_idx_start': 1563}), Document(id=2b1529b3a71e43d0095063090b83b4792fbd26cb1450f97090340da7abac6010, content: ' UiteindelijkwonnendeVanHemertsdezestrijd, maartoenbegonnenledenvandezefamilieonderlingtetwisten. Hi...', meta: {'file_path': '../data/prototyping\\\\amerongen_intro.pdf', 'source_id': '6da3250e6f903f7100f31d9135f683584a760c6094cd5ebd978bbe10db7fd6e6', 'page_number': 1, 'split_id': 6, 'split_idx_start': 1861}), Document(id=c7c18444f2a62a2ae7df18ce6d89e332353bac8b0c3ae86941ab7065deab2204, content: ' Vantoenaf blevendeVanReedesruimviereeuwenonbetwist meestervanhet huis, deheerlijkheidenoverigegoede...', meta: {'file_path': '../data/prototyping\\\\amerongen_intro.pdf', 'source_id': '6da3250e6f903f7100f31d9135f683584a760c6094cd5ebd978bbe10db7fd6e6', 'page_number': 1, 'split_id': 7, 'split_idx_start': 2133}), Document(id=29d92bc67f56c2e85378c73bff9901302dcd1cbe68a6b4cff90df18d6cc873c8, content: ' Dit zal zijntoelatingtot deridderschapvanUtrecht mogelijkgemaakt hebbenwant aanhet bezit vanhet hui...', meta: {'file_path': '../data/prototyping\\\\amerongen_intro.pdf', 'source_id': '6da3250e6f903f7100f31d9135f683584a760c6094cd5ebd978bbe10db7fd6e6', 'page_number': 1, 'split_id': 8, 'split_idx_start': 2501}), Document(id=a6161cf357abef35b0011dbe543cc41bea01fdf786ccd6fc32b9a9c77f46a4fd, content: ' MaarnadatdeFransenhet in1673haddenbezet engeplunderdwasgeenherstel meermogelijk; hethuiswastotaal u...', meta: {'file_path': '../data/prototyping\\\\amerongen_intro.pdf', 'source_id': '6da3250e6f903f7100f31d9135f683584a760c6094cd5ebd978bbe10db7fd6e6', 'page_number': 1, 'split_id': 9, 'split_idx_start': 2887}), Document(id=c0998abec0fc8450f7f5ec4a998773eafa1b9382de5a236932e10937c9c07f7d, content: ' Inhaarbrievenhieldzij haarmanopdehoogtevandevorderingenenvroeghemomraad.DeherenvanAmerongenvervulde...', meta: {'file_path': '../data/prototyping\\\\amerongen_intro.pdf', 'source_id': '6da3250e6f903f7100f31d9135f683584a760c6094cd5ebd978bbe10db7fd6e6', 'page_number': 2, 'split_id': 10, 'split_idx_start': 3270}), Document(id=a70acf371718a027c79e5c54178639df2d847bb4ae88097f6f6784664d1cb565, content: ' Daaromhieldenzij ookeenhuisaaninUtrecht, somstevenseeninDenHaag. Sommigenvanhengingeninhetlegerenma...', meta: {'file_path': '../data/prototyping\\\\amerongen_intro.pdf', 'source_id': '6da3250e6f903f7100f31d9135f683584a760c6094cd5ebd978bbe10db7fd6e6', 'page_number': 2, 'split_id': 11, 'split_idx_start': 3630}), Document(id=4d63bc00cb56c2de9e6da5b283aa0edd108db26693d080216ea884bc007880ac, content: 'Margaret Turnorstierf in1700. Het huisAmerongenhadtoengeenvastebewonermeer,want haarschoondochterUrs...', meta: {'file_path': '../data/prototyping\\\\amerongen_intro.pdf', 'source_id': '6da3250e6f903f7100f31d9135f683584a760c6094cd5ebd978bbe10db7fd6e6', 'page_number': 2, 'split_id': 12, 'split_idx_start': 4032}), Document(id=ab700ef0d454b820d8df34aedf5742dbb8e14983ed0ccb3ae80b2325310df6ec, content: ' Zij bleef daarongeveertwintigjaarwonenenliet eengrotehoeveelheidbrievenenanderedocumentenna, waarui...', meta: {'file_path': '../data/prototyping\\\\amerongen_intro.pdf', 'source_id': '6da3250e6f903f7100f31d9135f683584a760c6094cd5ebd978bbe10db7fd6e6', 'page_number': 2, 'split_id': 13, 'split_idx_start': 4433}), Document(id=e66bc5f9d99e62961e0c2a2d8c3de2d63735d310274648788b0d88fdd6f97a4f, content: ' FrederikChristiaanReinoudvanReedeenzijnvrouwnamendewijknaarEngeland, waarhij in1808overleed. In1810...', meta: {'file_path': '../data/prototyping\\\\amerongen_intro.pdf', 'source_id': '6da3250e6f903f7100f31d9135f683584a760c6094cd5ebd978bbe10db7fd6e6', 'page_number': 2, 'split_id': 14, 'split_idx_start': 4819}), Document(id=bd77477aa75bdb9c992d2c84ff2ad01854e0088f073dc2f20de46ada48e7e9fa, content: ' Tenslottewareneralleennogvrouwelijkenakomelingen, vanwiedelaatste, ElisabethMariavanReede, echtgeno...', meta: {'file_path': '../data/prototyping\\\\amerongen_intro.pdf', 'source_id': '6da3250e6f903f7100f31d9135f683584a760c6094cd5ebd978bbe10db7fd6e6', 'page_number': 2, 'split_id': 15, 'split_idx_start': 5090}), Document(id=df8ef469e059b27459748e9b633ba49249cdd28667282ba2406e38e5753a9b9b, content: ' In1879maaktezij Amerongenmet debijbehorendegoederenoveraanhaarneef GodardJohnCharlesGeorgegraaf van...', meta: {'file_path': '../data/prototyping\\\\amerongen_intro.pdf', 'source_id': '6da3250e6f903f7100f31d9135f683584a760c6094cd5ebd978bbe10db7fd6e6', 'page_number': 2, 'split_id': 16, 'split_idx_start': 5428}), Document(id=1de017895dbfef6803a82539ca055e05ce44f941f413df678f0bf2cb48d5d394, content: ' Deaanvoerwegenwerdenverbeterdendeintroductievantreinenautohief het isolement op, zodat het huishet ...', meta: {'file_path': '../data/prototyping\\\\amerongen_intro.pdf', 'source_id': '6da3250e6f903f7100f31d9135f683584a760c6094cd5ebd978bbe10db7fd6e6', 'page_number': 2, 'split_id': 17, 'split_idx_start': 5805}), Document(id=3bc1ae945d338b7b0b73170af2913427d2d581c209095c37d2e8c51720f18070, content: ' Hij liet het huisnaaanzijnkinderen, vanwieenkelenhet huisblevenbewonen. In1976besloot defamilieecht...', meta: {'file_path': '../data/prototyping\\\\amerongen_intro.pdf', 'source_id': '6da3250e6f903f7100f31d9135f683584a760c6094cd5ebd978bbe10db7fd6e6', 'page_number': 2, 'split_id': 18, 'split_idx_start': 6136}), Document(id=5323f15b3b14277d359bed96b6d12875d6b8da5e5bcbb05b8fa8845f8ab8f817, content: ' Het kasteel isevenalsdeomliggendetuinensinds1977opengesteldvoorhet publiek.\fHet landgoedAmerongen-Z...', meta: {'file_path': '../data/prototyping\\\\amerongen_intro.pdf', 'source_id': '6da3250e6f903f7100f31d9135f683584a760c6094cd5ebd978bbe10db7fd6e6', 'page_number': 2, 'split_id': 19, 'split_idx_start': 6386}), Document(id=b34ba382df0f1d921d48c58d7923f5b0c7cbbe43abeeab22c46f3f96cc641940, content: ' Indenegentiendeeeuwwerdhet huisZuilensteinenbijbehorendegoederenaandit landgoedtoegevoegd.\n",
      "Dezetwee...', meta: {'file_path': '../data/prototyping\\\\amerongen_intro.pdf', 'source_id': '6da3250e6f903f7100f31d9135f683584a760c6094cd5ebd978bbe10db7fd6e6', 'page_number': 3, 'split_id': 20, 'split_idx_start': 6743}), Document(id=7b05ee5eaea4c2d8bd890450fc9bd292f09818b517bea85a2164c152a83598cf, content: 'GodardvanReedewasin1585gestorvenenwerdinAmerongenopgevolgddoorzijnzoonFrederik. Zijnweduwehaddebesch...', meta: {'file_path': '../data/prototyping\\\\amerongen_intro.pdf', 'source_id': '6da3250e6f903f7100f31d9135f683584a760c6094cd5ebd978bbe10db7fd6e6', 'page_number': 3, 'split_id': 21, 'split_idx_start': 7074}), Document(id=c7d5e1883eef8212be0aae12cca0bb1cccaf9aeeae39800824eda7a7223d08cc, content: ' Dat wasvragenommoeilijkheden. Ervolgdeeenperiodevanjuridischgekrakeel, waaraanpaseeneindkwamnaverko...', meta: {'file_path': '../data/prototyping\\\\amerongen_intro.pdf', 'source_id': '6da3250e6f903f7100f31d9135f683584a760c6094cd5ebd978bbe10db7fd6e6', 'page_number': 3, 'split_id': 22, 'split_idx_start': 7436}), Document(id=ad16a20890fda9b13fa709bd84f94eb9919ee626a1da36d7985ed9378a2f10e2, content: 'Zuilensteinwerdbij diegelegenheidverheventot eenhogeheerlijkheid. Omdat het daarvooreigenlijkteklein...', meta: {'file_path': '../data/prototyping\\\\amerongen_intro.pdf', 'source_id': '6da3250e6f903f7100f31d9135f683584a760c6094cd5ebd978bbe10db7fd6e6', 'page_number': 3, 'split_id': 23, 'split_idx_start': 7819}), Document(id=ec671b1c252cf9ceed3b2248a555cfd57e6ce910cad1f877d3173be3bc2d16ba, content: ' In1830washet zover: delaatstemannelijkeVanNassau-Zuylestein, WillemHendrik, wasindat jaaroverledene...', meta: {'file_path': '../data/prototyping\\\\amerongen_intro.pdf', 'source_id': '6da3250e6f903f7100f31d9135f683584a760c6094cd5ebd978bbe10db7fd6e6', 'page_number': 3, 'split_id': 24, 'split_idx_start': 8166}), Document(id=563de03ca549c80e0e5494674031c40c822e6485dfeb95259cb4200bf6ca281e, content: ' DezeleefdemeestentijdsinEngelandenoverleedkinderloosin1897. Zuilensteinvermaaktezij aanGodardvanAld...', meta: {'file_path': '../data/prototyping\\\\amerongen_intro.pdf', 'source_id': '6da3250e6f903f7100f31d9135f683584a760c6094cd5ebd978bbe10db7fd6e6', 'page_number': 3, 'split_id': 25, 'split_idx_start': 8676}), Document(id=0a3319f3763438dc6283b58011a6a61c1dcdacfc6c71054ee42fc8f3cfc3ad9a, content: '\n",
      "Derentmeestersrekeningengeveneengoedbeeldvanhet beheervandit landgoed, waarbijopvalt hoemeninhet be...', meta: {'file_path': '../data/prototyping\\\\amerongen_intro.pdf', 'source_id': '6da3250e6f903f7100f31d9135f683584a760c6094cd5ebd978bbe10db7fd6e6', 'page_number': 3, 'split_id': 26, 'split_idx_start': 9063}), Document(id=f6dc44733b99d61a3015721c16d0adb0e610ece5784e6e8831a567438c34ce9d, content: ' Het werdeentijdlangbewoonddoorKarel ReinoudAdelbert vanAldenburgBentinck, defamilietak, dieopkastee...', meta: {'file_path': '../data/prototyping\\\\amerongen_intro.pdf', 'source_id': '6da3250e6f903f7100f31d9135f683584a760c6094cd5ebd978bbe10db7fd6e6', 'page_number': 3, 'split_id': 27, 'split_idx_start': 9402}), Document(id=f7a24c426f1da060cc18199cf584f3dcbed5a95295cda65c5fc2bca03eea3879, content: '\n",
      "DeBylandtsegoederen\n",
      "Derentmeestersvanhet landgoedAmerongen-Zuilensteinhaddenechterbehalvemet hetbeh...', meta: {'file_path': '../data/prototyping\\\\amerongen_intro.pdf', 'source_id': '6da3250e6f903f7100f31d9135f683584a760c6094cd5ebd978bbe10db7fd6e6', 'page_number': 4, 'split_id': 28, 'split_idx_start': 9630}), Document(id=405ae83a215c9489b955465a7c2bcf9083c4de43e8276b4b21cca52480efcd03, content: '\n",
      "Het bestonduit verschillendegoederencomplexen. EenervanlagindeBetuweenhadveelboomgaarden. InZeeland...', meta: {'file_path': '../data/prototyping\\\\amerongen_intro.pdf', 'source_id': '6da3250e6f903f7100f31d9135f683584a760c6094cd5ebd978bbe10db7fd6e6', 'page_number': 4, 'split_id': 29, 'split_idx_start': 10035}), Document(id=0191218a538050a98c5d748229427b6f8495c772b44b061ac0dd09c814c236d8, content: 'KleinervanomvangwarenenkelebezittingeninVianenenHazerswoude. Ookdezevielenonderhet beheervanderentme...', meta: {'file_path': '../data/prototyping\\\\amerongen_intro.pdf', 'source_id': '6da3250e6f903f7100f31d9135f683584a760c6094cd5ebd978bbe10db7fd6e6', 'page_number': 4, 'split_id': 30, 'split_idx_start': 10264}), Document(id=7db623d8f9fb19b57d03197a8b3eb78d323e7f774b52cce326db7de4d0e7326b, content: ' HieroverwerdalleengecorrespondeerddoorderentmeestervanAmerongen-Zuilenstein; het beheergeschieddete...', meta: {'file_path': '../data/prototyping\\\\amerongen_intro.pdf', 'source_id': '6da3250e6f903f7100f31d9135f683584a760c6094cd5ebd978bbe10db7fd6e6', 'page_number': 4, 'split_id': 31, 'split_idx_start': 10496}), Document(id=9d39da7220cc2e357374eb9b9e66609baa06e8ea2606206f412e8fb4bb130842, content: '\n",
      "Het huisMiddachtenisdoorhet huwelijkvanUrsulaPhilippotevanRaesfelt met GodardvanReedeaandefamilieVa...', meta: {'file_path': '../data/prototyping\\\\amerongen_intro.pdf', 'source_id': '6da3250e6f903f7100f31d9135f683584a760c6094cd5ebd978bbe10db7fd6e6', 'page_number': 4, 'split_id': 32, 'split_idx_start': 10961}), Document(id=81b63a4defcc9b46022225d9d65e60b97d35e08ec7f5b50e01a63c1bfa272120, content: ' MaarMiddachtenhadeeneigenrentmeester, zodat het beheerervanweinigsporeninhet archief vanAmerongenhe...', meta: {'file_path': '../data/prototyping\\\\amerongen_intro.pdf', 'source_id': '6da3250e6f903f7100f31d9135f683584a760c6094cd5ebd978bbe10db7fd6e6', 'page_number': 4, 'split_id': 33, 'split_idx_start': 11272}), Document(id=3983e9a1fb16596a9ab9fff6bf7f6dd97179ff3f936895f0f93027ee7e94bd01, content: ' Nahet overlijdenin1844vanWillemGustaaf FrederikvanReedewerdenMiddachtenenAmerongengemeenschappelijk...', meta: {'file_path': '../data/prototyping\\\\amerongen_intro.pdf', 'source_id': '6da3250e6f903f7100f31d9135f683584a760c6094cd5ebd978bbe10db7fd6e6', 'page_number': 4, 'split_id': 34, 'split_idx_start': 11695}), Document(id=96b512f30e90ca839b256e0aa7ef0c4117801f5698cd5913c1d9700ac2c4983a, content: ' SindsdienblevenAmerongenenMiddachtengescheiden, hoewel eruiteraardeennauwebandbestondtussendeBentin...', meta: {'file_path': '../data/prototyping\\\\amerongen_intro.pdf', 'source_id': '6da3250e6f903f7100f31d9135f683584a760c6094cd5ebd978bbe10db7fd6e6', 'page_number': 5, 'split_id': 35, 'split_idx_start': 12159}), Document(id=9a1ae05fdc586338d4932a619ae7d8fb8895b0359ff3671a9b700e967f0ff136, content: ' Het archief wemelt vanstukkenoverschuldenenverplichtingen, diesomstweeeeuweneerderwarenaangegaan. O...', meta: {'file_path': '../data/prototyping\\\\amerongen_intro.pdf', 'source_id': '6da3250e6f903f7100f31d9135f683584a760c6094cd5ebd978bbe10db7fd6e6', 'page_number': 5, 'split_id': 36, 'split_idx_start': 12477}), Document(id=a3ebd3adcbb8c6680ba3186570cabdbd789713380348e84e1b42fa30fa839194, content: ' Dekoningschonkhemenkeleverbeurdverklaardegoederenengaf hembovendiendetitel vangraaf vanAthloneenbar...', meta: {'file_path': '../data/prototyping\\\\amerongen_intro.pdf', 'source_id': '6da3250e6f903f7100f31d9135f683584a760c6094cd5ebd978bbe10db7fd6e6', 'page_number': 5, 'split_id': 37, 'split_idx_start': 12850}), Document(id=68beb5b96d596e7792e95c900fe64902e993a31dedbdd7b977fdee7b8b79d93e, content: ' OnderhenwarendegeneraalsGodardvanReede-Ginkel enReinhardvanReede-Ginkel. OokElisabethMariaVilliers-...', meta: {'file_path': '../data/prototyping\\\\amerongen_intro.pdf', 'source_id': '6da3250e6f903f7100f31d9135f683584a760c6094cd5ebd978bbe10db7fd6e6', 'page_number': 5, 'split_id': 38, 'split_idx_start': 13318}), Document(id=a8e86ae79d5823e306c21de0a7013ee0764c23f5f511ad4be2f9746c8e5f3af3, content: ' Allereerst zijndaardepapierenvandeVanReedesdieindezeventiendeenachttiendeeeuweenbelangrijkerol hebb...', meta: {'file_path': '../data/prototyping\\\\amerongen_intro.pdf', 'source_id': '6da3250e6f903f7100f31d9135f683584a760c6094cd5ebd978bbe10db7fd6e6', 'page_number': 5, 'split_id': 39, 'split_idx_start': 13688}), Document(id=ce4d75cc679a2c2b2d7523d2039cbfc3cf429e1753f57310b9e24bbcb60174ae, content: ' 1750tot 1940dehuishoudingvrijwelvollediggeboekstaafd. Voortsbevat het eengrotecollectiekaarten, pla...', meta: {'file_path': '../data/prototyping\\\\amerongen_intro.pdf', 'source_id': '6da3250e6f903f7100f31d9135f683584a760c6094cd5ebd978bbe10db7fd6e6', 'page_number': 5, 'split_id': 40, 'split_idx_start': 14018}), Document(id=44c872a023743840a80c901e3b6bb6b2e53786d3d8cfb87a88002ba516ee6802, content: ' TeneerstezijnerpapierenafkomstigvandefamilieWijts, viaJacquesWijts, eenoomvanMargaretaTurnor, inhet...', meta: {'file_path': '../data/prototyping\\\\amerongen_intro.pdf', 'source_id': '6da3250e6f903f7100f31d9135f683584a760c6094cd5ebd978bbe10db7fd6e6', 'page_number': 5, 'split_id': 41, 'split_idx_start': 14252}), Document(id=a534aa3f4430e86184816bfa4fbce5c4e32ac2f4352f551235482f0dcd3b9f55, content: 'TentweedezijnerdepapierenvanJulesvanBylandt, dein1906overledenzwagervanGodardvanAldenburgBentinck. Z...', meta: {'file_path': '../data/prototyping\\\\amerongen_intro.pdf', 'source_id': '6da3250e6f903f7100f31d9135f683584a760c6094cd5ebd978bbe10db7fd6e6', 'page_number': 5, 'split_id': 42, 'split_idx_start': 14662}), Document(id=763b92b137061bc3d9125083c9962957fa1abc77aecf8a000a6f6d6852c9f317, content: ' Ermoetenergensnogbrievenenaantekeningenvanhembestaan, dieechterniet\finbewaringgegevenzijn. Momentee...', meta: {'file_path': '../data/prototyping\\\\amerongen_intro.pdf', 'source_id': '6da3250e6f903f7100f31d9135f683584a760c6094cd5ebd978bbe10db7fd6e6', 'page_number': 5, 'split_id': 43, 'split_idx_start': 15049}), Document(id=7cd1ee3bac612ca871b2869c8f8a5e492e3fd86f8ed454baf63e3a1db6895c16, content: ' Het bevat ookstukkenvanvóórdietijd, dievermoedelijkbijtijdsinveiligheidzijngebracht. Dezezijnechter...', meta: {'file_path': '../data/prototyping\\\\amerongen_intro.pdf', 'source_id': '6da3250e6f903f7100f31d9135f683584a760c6094cd5ebd978bbe10db7fd6e6', 'page_number': 6, 'split_id': 44, 'split_idx_start': 15370}), Document(id=b42148951d56b534a9563e4fe08b71ad70b1fd8d3db27fb8dac4666be89fd594, content: ' DemeestebelangstellingwaservoordearchievenvanGodardAdriaanvanReede(1621-1691), endienszoonGodardvan...', meta: {'file_path': '../data/prototyping\\\\amerongen_intro.pdf', 'source_id': '6da3250e6f903f7100f31d9135f683584a760c6094cd5ebd978bbe10db7fd6e6', 'page_number': 6, 'split_id': 45, 'split_idx_start': 15626}), Document(id=7c3ed3c50d8d6a06ed9e629b2972ea889731ae4bf2a2381aba95ec95e4829dbf, content: ' Hingman, commies-chartermeesterbij het AlgemeenRijksarchief,met toestemmingvanGodardvanAldenburgBen...', meta: {'file_path': '../data/prototyping\\\\amerongen_intro.pdf', 'source_id': '6da3250e6f903f7100f31d9135f683584a760c6094cd5ebd978bbe10db7fd6e6', 'page_number': 6, 'split_id': 46, 'split_idx_start': 16043}), Document(id=acc7b05b6b186fb6db2d80d5b1d94a1d3771c3a00b39fdef4fbb86d5c85bb52b, content: ' Berendsverscheenendiesindsdienveelvuldigisgebruikt. Bij dieinventarisatiewerdongeveeréénmeterarchie...', meta: {'file_path': '../data/prototyping\\\\amerongen_intro.pdf', 'source_id': '6da3250e6f903f7100f31d9135f683584a760c6094cd5ebd978bbe10db7fd6e6', 'page_number': 6, 'split_id': 47, 'split_idx_start': 16389}), Document(id=ca725e950459e58c5ff4dee92cb1ab97ffc562c444c959a00b8d8c453cb141d3, content: '\n",
      "Daarinkwamveranderingnadat het huisAmerongenovergegaanwasnaardeStichtingKasteel Amerongen. Nadat al...', meta: {'file_path': '../data/prototyping\\\\amerongen_intro.pdf', 'source_id': '6da3250e6f903f7100f31d9135f683584a760c6094cd5ebd978bbe10db7fd6e6', 'page_number': 6, 'split_id': 48, 'split_idx_start': 16729}), Document(id=f22cfbb80e22b81586b04b73a0a49871d3b510702d6e8e19f2c866ab2b0fbf95, content: ' 1970,waarmeehet archief groeidevan30naarcirca100meter.\n",
      "Beslotenwerddeoudeinventarisomtewerkenenopte...', meta: {'file_path': '../data/prototyping\\\\amerongen_intro.pdf', 'source_id': '6da3250e6f903f7100f31d9135f683584a760c6094cd5ebd978bbe10db7fd6e6', 'page_number': 6, 'split_id': 49, 'split_idx_start': 17102}), Document(id=5dd1e93de35857942b32f349a7985493002752e16255efbb8aa2c6dedb7449a7, content: ' Teneerstewasdeverhoudingtussende30meterreedsgeïnventariseerdarchief, ende70meterdieerlaterbijkwamte...', meta: {'file_path': '../data/prototyping\\\\amerongen_intro.pdf', 'source_id': '6da3250e6f903f7100f31d9135f683584a760c6094cd5ebd978bbe10db7fd6e6', 'page_number': 6, 'split_id': 50, 'split_idx_start': 17347}), Document(id=b0eb0fbcdb555939b87f524d080bd50abf912b81aae3c3f8e863a1ab54657b55, content: ' Eentotaleherinventarisatiewasdusgewenst,waarbij dezeertalrijkebrievenmeertoegankelijkzijngemaakt, e...', meta: {'file_path': '../data/prototyping\\\\amerongen_intro.pdf', 'source_id': '6da3250e6f903f7100f31d9135f683584a760c6094cd5ebd978bbe10db7fd6e6', 'page_number': 6, 'split_id': 51, 'split_idx_start': 17823}), Document(id=057cfe458269c5e5add808f42dccb1e0fdb94150b7d69e7d892cb201dcf0b3b2, content: ' Het betreft met namedepersoonlijkebrievenvanna1920. Zij zijnindeinventarisgemerkt met een*achterdeb...', meta: {'file_path': '../data/prototyping\\\\amerongen_intro.pdf', 'source_id': '6da3250e6f903f7100f31d9135f683584a760c6094cd5ebd978bbe10db7fd6e6', 'page_number': 7, 'split_id': 52, 'split_idx_start': 18209}), Document(id=69798746ee901c87596db01d6fecc1c4c236ac7d421ba2b6209408ec14108582, content: 'DecorrespondentievandeverschillendeVanReedesenaanverwantegeslachtenispercorrespondent geordend. Degr...', meta: {'file_path': '../data/prototyping\\\\amerongen_intro.pdf', 'source_id': '6da3250e6f903f7100f31d9135f683584a760c6094cd5ebd978bbe10db7fd6e6', 'page_number': 7, 'split_id': 53, 'split_idx_start': 18407}), Document(id=5a6506e970a23f22a6ff172c45638f58e09a4a67559fb349081a4a42d3012065, content: 'Onderzoekersdiemateriaal uit het huisarchief verwerkenineenpublicatieof scriptiewordenverzocht dit t...', meta: {'file_path': '../data/prototyping\\\\amerongen_intro.pdf', 'source_id': '6da3250e6f903f7100f31d9135f683584a760c6094cd5ebd978bbe10db7fd6e6', 'page_number': 7, 'split_id': 54, 'split_idx_start': 18787}), Document(id=12ed39927756cf5980f191093bf7e12af295313c855b8f6c2af9bd0ad772d1d5, content: 'C. TaetsvanAmerongenInventarisvandekaartenentekeningenvandeStichtingKasteel Amerongen.DeafkortingHSS...', meta: {'file_path': '../data/prototyping\\\\amerongen_intro.pdf', 'source_id': '6da3250e6f903f7100f31d9135f683584a760c6094cd5ebd978bbe10db7fd6e6', 'page_number': 7, 'split_id': 55, 'split_idx_start': 19035}), Document(id=856f0481769eee98e4d74d08b0d7346c1d2a3a8f947b380f14f266fb8a3f426e, content: 'Fiches.DeafkortingRAverwijst naarR. FruinTh.', meta: {'file_path': '../data/prototyping\\\\amerongen_intro.pdf', 'source_id': '6da3250e6f903f7100f31d9135f683584a760c6094cd5ebd978bbe10db7fd6e6', 'page_number': 7, 'split_id': 56, 'split_idx_start': 19202}), Document(id=39a5476c4e03d9c12ef4d4d6f31c30afe4ffd393b6e74e91906fb3e6bef976bd, content: ', Catalogusvandearchievendercollegiën,(Utrecht 1893).Deromeinsenrs. I, II enIII verwijzennaarderespe...', meta: {'file_path': '../data/prototyping\\\\amerongen_intro.pdf', 'source_id': '6da3250e6f903f7100f31d9135f683584a760c6094cd5ebd978bbe10db7fd6e6', 'page_number': 7, 'split_id': 57, 'split_idx_start': 19246}), Document(id=be376182b0a608ee8ebec38339359bbb1244681d776f145b851049a75045f286, content: ' Berends,Inventarisvanarchievenaanwezigophet huisAmerongen, ('s-Gravenhage, 1901).', meta: {'file_path': '../data/prototyping\\\\amerongen_intro.pdf', 'source_id': '6da3250e6f903f7100f31d9135f683584a760c6094cd5ebd978bbe10db7fd6e6', 'page_number': 7, 'split_id': 58, 'split_idx_start': 19367})]}}\n"
     ]
    },
    {
     "name": "stderr",
     "output_type": "stream",
     "text": [
      "\n"
     ]
    }
   ],
   "source": [
    "process_files_in_prototyping_folder()"
   ]
  },
  {
   "cell_type": "markdown",
   "metadata": {},
   "source": [
    "## Removing data from docstore"
   ]
  },
  {
   "cell_type": "code",
   "execution_count": 12,
   "metadata": {},
   "outputs": [
    {
     "name": "stderr",
     "output_type": "stream",
     "text": [
      "2024-12-18 21:18:26,636 - pinecone_plugin_interface.logging - INFO - Discovering subpackages in _NamespacePath(['e:\\\\programming\\\\HUA-rag\\\\.venv\\\\Lib\\\\site-packages\\\\pinecone_plugins'])\n",
      "2024-12-18 21:18:26,637 - pinecone_plugin_interface.logging - INFO - Looking for plugins in pinecone_plugins.inference\n",
      "2024-12-18 21:18:26,637 - pinecone_plugin_interface.logging - INFO - Installing plugin inference into Pinecone\n",
      "2024-12-18 21:18:26,952 - haystack_integrations.document_stores.pinecone.document_store - INFO - Connecting to existing index archiefutrecht. `dimension`, `spec`, and `metric` will be ignored.\n"
     ]
    }
   ],
   "source": [
    "docstore = create_docstore()\n",
    "\n",
    "to_delete = []\n",
    "\n",
    "filepath_filter = {\n",
    "    \"field\": \"meta.file_path\",\n",
    "    \"operator\": \"==\",\n",
    "    \"value\": \"../data/prototyping\\\\amerongen_intro.pdf\"\n",
    "}\n",
    "\n",
    "docs = docstore.filter_documents(filepath_filter)\n",
    "\n",
    "doc_ids = [doc.id for doc in docs]\n",
    "\n",
    "docstore.delete_documents(doc_ids)"
   ]
  }
 ],
 "metadata": {
  "kernelspec": {
   "display_name": ".venv",
   "language": "python",
   "name": "python3"
  },
  "language_info": {
   "codemirror_mode": {
    "name": "ipython",
    "version": 3
   },
   "file_extension": ".py",
   "mimetype": "text/x-python",
   "name": "python",
   "nbconvert_exporter": "python",
   "pygments_lexer": "ipython3",
   "version": "3.11.4"
  }
 },
 "nbformat": 4,
 "nbformat_minor": 2
}
