{
 "cells": [
  {
   "cell_type": "markdown",
   "metadata": {},
   "source": [
    "## Generic imports"
   ]
  },
  {
   "cell_type": "code",
   "execution_count": null,
   "metadata": {},
   "outputs": [],
   "source": [
    "from dotenv import load_dotenv\n",
    "\n",
    "from haystack import Pipeline\n",
    "from haystack.utils import Secret\n",
    "from haystack_integrations.document_stores.pinecone import PineconeDocumentStore\n",
    "from haystack.utils import Secret\n",
    "from haystack.components.generators.openai import OpenAIGenerator\n",
    "from haystack.components.builders import PromptBuilder\n",
    "from haystack.components.embedders import OpenAITextEmbedder\n",
    "from haystack.components.joiners import DocumentJoiner\n",
    "from haystack_integrations.components.retrievers.pinecone import PineconeEmbeddingRetriever\n",
    "from haystack_integrations.document_stores.pinecone import PineconeDocumentStore\n"
   ]
  }
 ],
 "metadata": {
  "kernelspec": {
   "display_name": ".venv",
   "language": "python",
   "name": "python3"
  },
  "language_info": {
   "codemirror_mode": {
    "name": "ipython",
    "version": 3
   },
   "file_extension": ".py",
   "mimetype": "text/x-python",
   "name": "python",
   "nbconvert_exporter": "python",
   "pygments_lexer": "ipython3",
   "version": "3.11.4"
  }
 },
 "nbformat": 4,
 "nbformat_minor": 2
}
