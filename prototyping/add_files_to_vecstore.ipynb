{
 "cells": [
  {
   "cell_type": "markdown",
   "metadata": {},
   "source": [
    "## Generic imports"
   ]
  },
  {
   "cell_type": "code",
   "execution_count": 14,
   "metadata": {},
   "outputs": [],
   "source": [
    "from dotenv import load_dotenv\n",
    "import logging\n",
    "import os\n",
    "import sys"
   ]
  },
  {
   "cell_type": "code",
   "execution_count": 15,
   "metadata": {},
   "outputs": [],
   "source": [
    "logging.basicConfig(level=logging.INFO, format='%(asctime)s - %(name)s - %(levelname)s - %(message)s')\n",
    "logger = logging.getLogger(__name__)"
   ]
  },
  {
   "cell_type": "code",
   "execution_count": 16,
   "metadata": {},
   "outputs": [],
   "source": [
    "if not load_dotenv():\n",
    "    logger.error(\"No .env file found\")"
   ]
  },
  {
   "cell_type": "markdown",
   "metadata": {},
   "source": [
    "## Setup Haystack pipeline for indexing"
   ]
  },
  {
   "cell_type": "markdown",
   "metadata": {},
   "source": [
    "### Basic imports for pipeline"
   ]
  },
  {
   "cell_type": "code",
   "execution_count": 17,
   "metadata": {},
   "outputs": [],
   "source": [
    "from haystack_integrations.document_stores.pinecone import PineconeDocumentStore\n",
    "from haystack.components.embedders import OpenAIDocumentEmbedder\n",
    "from haystack.utils import Secret\n",
    "from haystack.document_stores.types.policy import DuplicatePolicy\n",
    "from haystack.components.writers import DocumentWriter\n",
    "import os"
   ]
  },
  {
   "cell_type": "markdown",
   "metadata": {},
   "source": [
    "### Creating some classes\n",
    "Haystack does not allow repeated use of the same instance in its pipelines. To combat, I readily create methods here to instantiate all (or some) classes required in my pipeline"
   ]
  },
  {
   "cell_type": "code",
   "execution_count": 18,
   "metadata": {},
   "outputs": [],
   "source": [
    "\n",
    "def create_docstore() -> PineconeDocumentStore:\n",
    "    return PineconeDocumentStore(\n",
    "        api_key=Secret.from_env_var(\"PINECONE_API_KEY\"),\n",
    "        index=\"archiefutrecht\", # is nu statisch, raad aan gewoon in .env te zetten\n",
    "        dimension=1536, # text-embedding-3-small\n",
    "    )\n",
    "\n",
    "def create_document_embedder() -> OpenAIDocumentEmbedder:\n",
    "    return OpenAIDocumentEmbedder(\n",
    "        model=\"text-embedding-3-small\",\n",
    "        api_key=Secret.from_env_var(\"OPENAI_API_KEY\"),\n",
    "        meta_fields_to_embed=[] # Zorgt ervoor dat niet alleen tekst in embedding wordt meegenomen maar ook gespecificeerde metadata. Vet handig voor als je belangrijke metadata genereert.\n",
    "    )\n",
    "    \n",
    "def create_document_writer(docstore) -> DocumentWriter:\n",
    "    return DocumentWriter(document_store=docstore, policy=DuplicatePolicy.OVERWRITE) \n"
   ]
  },
  {
   "cell_type": "markdown",
   "metadata": {},
   "source": [
    "### Pipeline"
   ]
  },
  {
   "cell_type": "code",
   "execution_count": 19,
   "metadata": {},
   "outputs": [],
   "source": [
    "from haystack import Pipeline\n",
    "from haystack.components.converters import PyPDFToDocument\n",
    "from haystack.components.preprocessors import DocumentCleaner, DocumentSplitter"
   ]
  },
  {
   "cell_type": "code",
   "execution_count": 20,
   "metadata": {},
   "outputs": [],
   "source": [
    "def create_indexing_pipeline() -> Pipeline:\n",
    "    pipeline = Pipeline()\n",
    "    \n",
    "    converter = PyPDFToDocument()\n",
    "    cleaner = DocumentCleaner()\n",
    "    splitter = DocumentSplitter(split_by=\"sentence\", split_length=3)\n",
    "    # enricher = DocumentEnricher() Is for later when we have a defined set of metadata I can generate\n",
    "    embedder = create_document_embedder()\n",
    "    writer = create_document_writer(create_docstore())\n",
    "    \n",
    "    pipeline.add_component(\"converter\", converter)\n",
    "    pipeline.add_component(\"cleaner\", cleaner)\n",
    "    pipeline.add_component(\"splitter\", splitter)\n",
    "    # pipeline.add_component(\"enricher\", enricher)\n",
    "    pipeline.add_component(\"embedder\", embedder)\n",
    "    pipeline.add_component(\"writer\", writer)\n",
    "    \n",
    "    pipeline.connect(\"converter\", \"cleaner\")\n",
    "    pipeline.connect(\"cleaner\", \"splitter\")\n",
    "    # pipeline.connect(\"splitter\", \"enricher\")\n",
    "    pipeline.connect(\"splitter\", \"embedder\")\n",
    "    pipeline.connect(\"embedder\", \"writer\")\n",
    "    \n",
    "    return pipeline\n",
    "    "
   ]
  },
  {
   "cell_type": "markdown",
   "metadata": {},
   "source": [
    "### Processing PDFs"
   ]
  },
  {
   "cell_type": "code",
   "execution_count": 21,
   "metadata": {},
   "outputs": [],
   "source": [
    "def get_doc_paths() -> list:\n",
    "    paths = []\n",
    "    for root, dirs, files in os.walk(\"../data/prototyping\"):\n",
    "        for file in files:\n",
    "            if file.endswith(\".pdf\"):\n",
    "                paths.append(os.path.join(root, file))\n",
    "    return paths\n",
    "\n",
    "def process_files_in_prototyping_folder() -> None: # Long name but it's descriptive :)\n",
    "    pipeline = create_indexing_pipeline()\n",
    "    paths = get_doc_paths()\n",
    "    results = pipeline.run(\n",
    "        data={\"converter\" : {\"sources\": paths}},\n",
    "        include_outputs_from=[\"converter\", \"cleaner\", \"splitter\"]\n",
    "    )\n",
    "    print(results)\n",
    "    "
   ]
  },
  {
   "cell_type": "code",
   "execution_count": 25,
   "metadata": {},
   "outputs": [
    {
     "name": "stderr",
     "output_type": "stream",
     "text": [
      "2024-12-18 12:05:16,377 - haystack.core.pipeline.pipeline - INFO - Running component converter\n",
      "2024-12-18 12:05:16,991 - haystack.core.pipeline.pipeline - INFO - Running component cleaner\n",
      "2024-12-18 12:05:16,991 - haystack.core.pipeline.pipeline - INFO - Running component splitter\n",
      "2024-12-18 12:05:16,992 - haystack.core.pipeline.pipeline - INFO - Running component embedder\n",
      "Calculating embeddings: 0it [00:00, ?it/s]2024-12-18 12:05:17,234 - httpx - INFO - HTTP Request: POST https://api.openai.com/v1/embeddings \"HTTP/1.1 401 Unauthorized\"\n",
      "2024-12-18 12:05:17,235 - haystack.components.embedders.openai_document_embedder - ERROR - Failed embedding of documents 52eede293bf4a2f962897130ddf6998716d1e73b3ec833b8a79a92425dc31cba caused by Error code: 401 - {'error': {'message': 'You do not have access to the organization tied to the API key.', 'type': 'invalid_request_error', 'param': None, 'code': 'invalid_organization'}}\n",
      "Calculating embeddings: 1it [00:00,  4.13it/s]\n",
      "2024-12-18 12:05:17,236 - haystack.core.pipeline.pipeline - INFO - Running component writer\n",
      "2024-12-18 12:05:17,237 - haystack_integrations.document_stores.pinecone.document_store - WARNING - Document 52eede293bf4a2f962897130ddf6998716d1e73b3ec833b8a79a92425dc31cba has no embedding. Pinecone is a purely vector database. A dummy embedding will be used, but this can affect the search results. \n",
      "2024-12-18 12:05:17,238 - pinecone_plugin_interface.logging - INFO - Discovering subpackages in _NamespacePath(['e:\\\\programming\\\\HUA-rag\\\\.venv\\\\Lib\\\\site-packages\\\\pinecone_plugins'])\n",
      "2024-12-18 12:05:17,238 - pinecone_plugin_interface.logging - INFO - Looking for plugins in pinecone_plugins.inference\n",
      "2024-12-18 12:05:17,239 - pinecone_plugin_interface.logging - INFO - Installing plugin inference into Pinecone\n",
      "2024-12-18 12:05:17,505 - haystack_integrations.document_stores.pinecone.document_store - INFO - Connecting to existing index archiefutrecht. `dimension`, `spec`, and `metric` will be ignored.\n",
      "Upserted vectors: 100%|██████████| 1/1 [00:00<00:00,  9.32it/s]"
     ]
    },
    {
     "name": "stdout",
     "output_type": "stream",
     "text": [
      "{'embedder': {'meta': {}}, 'writer': {'documents_written': 1}, 'converter': {'documents': [Document(id=1c1a4014474742c65f5c84c76935b81f1c6e6c3066e5d1cc3e687c64e7b36e86, content: 'Inleiding\n",
      "Het huisAmerongenenzijnbewoners\n",
      "Deeerstevermeldingvanhet huisteAmerongenisuit 1286. Degraa...', meta: {'file_path': '../data/prototyping\\\\amerongen_intro.pdf'})]}, 'cleaner': {'documents': [Document(id=6da3250e6f903f7100f31d9135f683584a760c6094cd5ebd978bbe10db7fd6e6, content: 'Inleiding\n",
      "Het huisAmerongenenzijnbewoners\n",
      "Deeerstevermeldingvanhet huisteAmerongenisuit 1286. Degraa...', meta: {'file_path': '../data/prototyping\\\\amerongen_intro.pdf'})]}, 'splitter': {'documents': [Document(id=52eede293bf4a2f962897130ddf6998716d1e73b3ec833b8a79a92425dc31cba, content: 'Inleiding\n",
      "Het huisAmerongenenzijnbewoners\n",
      "Deeerstevermeldingvanhet huisteAmerongenisuit 1286. Degraa...', meta: {'file_path': '../data/prototyping\\\\amerongen_intro.pdf', 'source_id': '6da3250e6f903f7100f31d9135f683584a760c6094cd5ebd978bbe10db7fd6e6', 'page_number': 1, 'split_id': 0, 'split_idx_start': 0})]}}\n"
     ]
    },
    {
     "name": "stderr",
     "output_type": "stream",
     "text": [
      "\n"
     ]
    }
   ],
   "source": [
    "process_files_in_prototyping_folder()"
   ]
  },
  {
   "cell_type": "markdown",
   "metadata": {},
   "source": [
    "## Removing data from docstore"
   ]
  },
  {
   "cell_type": "code",
   "execution_count": 24,
   "metadata": {},
   "outputs": [
    {
     "name": "stderr",
     "output_type": "stream",
     "text": [
      "2024-12-18 12:05:10,903 - pinecone_plugin_interface.logging - INFO - Discovering subpackages in _NamespacePath(['e:\\\\programming\\\\HUA-rag\\\\.venv\\\\Lib\\\\site-packages\\\\pinecone_plugins'])\n",
      "2024-12-18 12:05:10,904 - pinecone_plugin_interface.logging - INFO - Looking for plugins in pinecone_plugins.inference\n",
      "2024-12-18 12:05:10,904 - pinecone_plugin_interface.logging - INFO - Installing plugin inference into Pinecone\n",
      "2024-12-18 12:05:11,253 - haystack_integrations.document_stores.pinecone.document_store - INFO - Connecting to existing index archiefutrecht. `dimension`, `spec`, and `metric` will be ignored.\n"
     ]
    }
   ],
   "source": [
    "docstore = create_docstore()\n",
    "\n",
    "to_delete = []\n",
    "\n",
    "filepath_filter = {\n",
    "    \"field\": \"meta.file_path\",\n",
    "    \"operator\": \"==\",\n",
    "    \"value\": \"../data/prototyping\\\\amerongen_intro.pdf\"\n",
    "}\n",
    "\n",
    "docs = docstore.filter_documents(filepath_filter)\n",
    "\n",
    "doc_ids = [doc.id for doc in docs]\n",
    "\n",
    "docstore.delete_documents(doc_ids)"
   ]
  }
 ],
 "metadata": {
  "kernelspec": {
   "display_name": ".venv",
   "language": "python",
   "name": "python3"
  },
  "language_info": {
   "codemirror_mode": {
    "name": "ipython",
    "version": 3
   },
   "file_extension": ".py",
   "mimetype": "text/x-python",
   "name": "python",
   "nbconvert_exporter": "python",
   "pygments_lexer": "ipython3",
   "version": "3.11.4"
  }
 },
 "nbformat": 4,
 "nbformat_minor": 2
}
