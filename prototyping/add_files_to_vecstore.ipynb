{
 "cells": [
  {
   "cell_type": "markdown",
   "metadata": {},
   "source": [
    "## Generic imports"
   ]
  },
  {
   "cell_type": "code",
   "execution_count": 1,
   "metadata": {},
   "outputs": [],
   "source": [
    "from dotenv import load_dotenv\n",
    "import logging\n",
    "import os\n",
    "import sys"
   ]
  },
  {
   "cell_type": "code",
   "execution_count": 2,
   "metadata": {},
   "outputs": [],
   "source": [
    "logging.basicConfig(level=logging.INFO, format='%(asctime)s - %(name)s - %(levelname)s - %(message)s')\n",
    "logger = logging.getLogger(__name__)"
   ]
  },
  {
   "cell_type": "code",
   "execution_count": 3,
   "metadata": {},
   "outputs": [],
   "source": [
    "if not load_dotenv():\n",
    "    logger.error(\"No .env file found\")"
   ]
  },
  {
   "cell_type": "markdown",
   "metadata": {},
   "source": [
    "## Setup Haystack pipeline for indexing"
   ]
  },
  {
   "cell_type": "markdown",
   "metadata": {},
   "source": [
    "### Basic imports for pipeline"
   ]
  },
  {
   "cell_type": "code",
   "execution_count": 4,
   "metadata": {},
   "outputs": [
    {
     "name": "stderr",
     "output_type": "stream",
     "text": [
      "e:\\programming\\HUA-rag\\.venv\\Lib\\site-packages\\tqdm\\auto.py:21: TqdmWarning: IProgress not found. Please update jupyter and ipywidgets. See https://ipywidgets.readthedocs.io/en/stable/user_install.html\n",
      "  from .autonotebook import tqdm as notebook_tqdm\n",
      "None of PyTorch, TensorFlow >= 2.0, or Flax have been found. Models won't be available and only tokenizers, configuration and file/data utilities can be used.\n"
     ]
    }
   ],
   "source": [
    "from haystack_integrations.document_stores.pinecone import PineconeDocumentStore\n",
    "from haystack.components.embedders import OpenAIDocumentEmbedder\n",
    "from haystack.utils import Secret\n",
    "from haystack.document_stores.types.policy import DuplicatePolicy\n",
    "from haystack.components.writers import DocumentWriter\n",
    "import os"
   ]
  },
  {
   "cell_type": "markdown",
   "metadata": {},
   "source": [
    "### Creating some classes\n",
    "Haystack does not allow repeated use of the same instance in its pipelines. To combat, I readily create methods here to instantiate all (or some) classes required in my pipeline"
   ]
  },
  {
   "cell_type": "code",
   "execution_count": 5,
   "metadata": {},
   "outputs": [],
   "source": [
    "\n",
    "def create_docstore() -> PineconeDocumentStore:\n",
    "    return PineconeDocumentStore(\n",
    "        api_key=Secret.from_env_var(\"PINECONE_API_KEY\"),\n",
    "        index=\"archiefutrecht\", # is nu statisch, raad aan gewoon in .env te zetten\n",
    "        dimension=1536, # text-embedding-3-small\n",
    "    )\n",
    "\n",
    "def create_document_embedder() -> OpenAIDocumentEmbedder:\n",
    "    return OpenAIDocumentEmbedder(\n",
    "        model=\"text-embedding-3-small\",\n",
    "        api_key=Secret.from_env_var(\"OPENAI_API_KEY\"),\n",
    "        meta_fields_to_embed=[] # Zorgt ervoor dat niet alleen tekst in embedding wordt meegenomen maar ook gespecificeerde metadata. Vet handig voor als je belangrijke metadata genereert.\n",
    "    )\n",
    "    \n",
    "def create_document_writer(docstore) -> DocumentWriter:\n",
    "    return DocumentWriter(document_store=docstore, policy=DuplicatePolicy.OVERWRITE) \n"
   ]
  },
  {
   "cell_type": "markdown",
   "metadata": {},
   "source": [
    "### Pipeline"
   ]
  },
  {
   "cell_type": "code",
   "execution_count": 6,
   "metadata": {},
   "outputs": [],
   "source": [
    "from haystack import Pipeline\n",
    "from haystack.components.converters import PyPDFToDocument\n",
    "from haystack.components.preprocessors import DocumentCleaner, DocumentSplitter"
   ]
  },
  {
   "cell_type": "code",
   "execution_count": 7,
   "metadata": {},
   "outputs": [],
   "source": [
    "def create_indexing_pipeline() -> Pipeline:\n",
    "    pipeline = Pipeline()\n",
    "    \n",
    "    converter = PyPDFToDocument()\n",
    "    cleaner = DocumentCleaner()\n",
    "    splitter = DocumentSplitter(split_by=\"passage\", split_length=3)\n",
    "    # enricher = DocumentEnricher() Is for later when we have a defined set of metadata I can generate\n",
    "    embedder = create_document_embedder()\n",
    "    writer = create_document_writer(create_docstore())\n",
    "    \n",
    "    pipeline.add_component(\"converter\", converter)\n",
    "    pipeline.add_component(\"cleaner\", cleaner)\n",
    "    pipeline.add_component(\"splitter\", splitter)\n",
    "    # pipeline.add_component(\"enricher\", enricher)\n",
    "    pipeline.add_component(\"embedder\", embedder)\n",
    "    pipeline.add_component(\"writer\", writer)\n",
    "    \n",
    "    pipeline.connect(\"converter\", \"cleaner\")\n",
    "    pipeline.connect(\"cleaner\", \"splitter\")\n",
    "    # pipeline.connect(\"splitter\", \"enricher\")\n",
    "    pipeline.connect(\"splitter\", \"embedder\")\n",
    "    pipeline.connect(\"embedder\", \"writer\")\n",
    "    \n",
    "    return pipeline\n",
    "    "
   ]
  },
  {
   "cell_type": "markdown",
   "metadata": {},
   "source": [
    "### Processing PDFs"
   ]
  },
  {
   "cell_type": "code",
   "execution_count": 13,
   "metadata": {},
   "outputs": [],
   "source": [
    "def get_doc_paths() -> list:\n",
    "    paths = []\n",
    "    for root, dirs, files in os.walk(\"../data/prototyping\"):\n",
    "        for file in files:\n",
    "            if file.endswith(\".pdf\"):\n",
    "                paths.append(os.path.join(root, file))\n",
    "    return paths\n",
    "\n",
    "def process_files_in_prototyping_folder() -> None: # Long name but it's descriptive :)\n",
    "    pipeline = create_indexing_pipeline()\n",
    "    paths = get_doc_paths()\n",
    "    results = pipeline.run(\n",
    "        data={\"converter\" : {\"sources\": paths}},\n",
    "        include_outputs_from=[\"converter\", \"cleaner\", \"splitter\"]\n",
    "    )\n",
    "    print(results)\n",
    "    "
   ]
  },
  {
   "cell_type": "code",
   "execution_count": 9,
   "metadata": {},
   "outputs": [
    {
     "name": "stderr",
     "output_type": "stream",
     "text": [
      "2024-12-18 10:22:59,967 - haystack.core.pipeline.pipeline - INFO - Running component converter\n",
      "2024-12-18 10:23:00,598 - haystack.core.pipeline.pipeline - INFO - Running component cleaner\n",
      "2024-12-18 10:23:00,599 - haystack.core.pipeline.pipeline - INFO - Running component splitter\n",
      "2024-12-18 10:23:00,601 - haystack.core.pipeline.pipeline - INFO - Running component embedder\n",
      "Calculating embeddings: 0it [00:00, ?it/s]2024-12-18 10:23:01,599 - httpx - INFO - HTTP Request: POST https://api.openai.com/v1/embeddings \"HTTP/1.1 200 OK\"\n",
      "Calculating embeddings: 1it [00:01,  1.61s/it]2024-12-18 10:23:02,561 - httpx - INFO - HTTP Request: POST https://api.openai.com/v1/embeddings \"HTTP/1.1 200 OK\"\n",
      "Calculating embeddings: 2it [00:02,  1.06s/it]\n",
      "2024-12-18 10:23:02,731 - haystack.core.pipeline.pipeline - INFO - Running component writer\n",
      "2024-12-18 10:23:02,733 - pinecone_plugin_interface.logging - INFO - Discovering subpackages in _NamespacePath(['e:\\\\programming\\\\HUA-rag\\\\.venv\\\\Lib\\\\site-packages\\\\pinecone_plugins'])\n",
      "2024-12-18 10:23:02,735 - pinecone_plugin_interface.logging - INFO - Looking for plugins in pinecone_plugins.inference\n",
      "2024-12-18 10:23:02,757 - pinecone_plugin_interface.logging - INFO - Installing plugin inference into Pinecone\n",
      "2024-12-18 10:23:02,977 - haystack_integrations.document_stores.pinecone.document_store - INFO - Connecting to existing index archiefutrecht. `dimension`, `spec`, and `metric` will be ignored.\n",
      "Upserted vectors: 100%|██████████| 35/35 [00:00<00:00, 64.79it/s]\n"
     ]
    }
   ],
   "source": [
    "process_files_in_prototyping_folder()"
   ]
  },
  {
   "cell_type": "markdown",
   "metadata": {},
   "source": [
    "## Removing data from docstore"
   ]
  },
  {
   "cell_type": "code",
   "execution_count": 12,
   "metadata": {},
   "outputs": [
    {
     "name": "stderr",
     "output_type": "stream",
     "text": [
      "2024-12-18 10:27:02,538 - pinecone_plugin_interface.logging - INFO - Discovering subpackages in _NamespacePath(['e:\\\\programming\\\\HUA-rag\\\\.venv\\\\Lib\\\\site-packages\\\\pinecone_plugins'])\n",
      "2024-12-18 10:27:02,539 - pinecone_plugin_interface.logging - INFO - Looking for plugins in pinecone_plugins.inference\n",
      "2024-12-18 10:27:02,540 - pinecone_plugin_interface.logging - INFO - Installing plugin inference into Pinecone\n",
      "2024-12-18 10:27:02,778 - haystack_integrations.document_stores.pinecone.document_store - INFO - Connecting to existing index archiefutrecht. `dimension`, `spec`, and `metric` will be ignored.\n"
     ]
    }
   ],
   "source": [
    "docstore = create_docstore()\n",
    "\n",
    "to_delete = []\n",
    "\n",
    "filepath_filter = {\n",
    "    \"field\": \"meta.file_path\",\n",
    "    \"operator\": \"==\",\n",
    "    \"value\": \"../data/prototyping\\\\amerongen_intro.pdf\"\n",
    "}\n",
    "\n",
    "docs = docstore.filter_documents(filepath_filter)\n",
    "\n",
    "doc_ids = [doc.id for doc in docs]\n",
    "\n",
    "docstore.delete_documents(doc_ids)"
   ]
  }
 ],
 "metadata": {
  "kernelspec": {
   "display_name": ".venv",
   "language": "python",
   "name": "python3"
  },
  "language_info": {
   "codemirror_mode": {
    "name": "ipython",
    "version": 3
   },
   "file_extension": ".py",
   "mimetype": "text/x-python",
   "name": "python",
   "nbconvert_exporter": "python",
   "pygments_lexer": "ipython3",
   "version": "3.11.4"
  }
 },
 "nbformat": 4,
 "nbformat_minor": 2
}
