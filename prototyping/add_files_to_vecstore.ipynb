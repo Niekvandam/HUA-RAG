{
 "cells": [
  {
   "cell_type": "markdown",
   "metadata": {},
   "source": [
    "## Generic imports"
   ]
  },
  {
   "cell_type": "code",
   "execution_count": 12,
   "metadata": {},
   "outputs": [],
   "source": [
    "from dotenv import load_dotenv\n",
    "import logging\n",
    "import os\n",
    "import sys"
   ]
  },
  {
   "cell_type": "code",
   "execution_count": 13,
   "metadata": {},
   "outputs": [],
   "source": [
    "logging.basicConfig(level=logging.DEBUG, format='%(asctime)s - %(name)s - %(levelname)s - %(message)s')\n",
    "logger = logging.getLogger(__name__)"
   ]
  },
  {
   "cell_type": "code",
   "execution_count": 14,
   "metadata": {},
   "outputs": [],
   "source": [
    "if not load_dotenv():\n",
    "    logger.error(\"No .env file found\")"
   ]
  },
  {
   "cell_type": "markdown",
   "metadata": {},
   "source": [
    "## Setup Haystack pipeline for indexing"
   ]
  },
  {
   "cell_type": "markdown",
   "metadata": {},
   "source": [
    "### Basic imports for pipeline"
   ]
  },
  {
   "cell_type": "code",
   "execution_count": 19,
   "metadata": {},
   "outputs": [],
   "source": [
    "from haystack_integrations.document_stores.pinecone import PineconeDocumentStore\n",
    "from haystack.components.embedders import OpenAIDocumentEmbedder\n",
    "from haystack.utils import Secret\n",
    "from haystack.document_stores.types.policy import DuplicatePolicy\n",
    "from haystack.components.writers import DocumentWriter\n",
    "import os"
   ]
  },
  {
   "cell_type": "markdown",
   "metadata": {},
   "source": [
    "### Creating some classes\n",
    "Haystack does not allow repeated use of the same instance in its pipelines. To combat, I readily create methods here to instantiate all (or some) classes required in my pipeline"
   ]
  },
  {
   "cell_type": "code",
   "execution_count": null,
   "metadata": {},
   "outputs": [],
   "source": [
    "\n",
    "def create_docstore() -> PineconeDocumentStore:\n",
    "    return PineconeDocumentStore(\n",
    "        api_key=Secret.from_env_var(\"PINECONE_API_KEY\"),\n",
    "        index=\"archiefutrecht\", # is nu statisch, raad aan gewoon in .env te zetten\n",
    "        dimension=1536, # text-embedding-3-small\n",
    "    )\n",
    "\n",
    "def create_document_embedder() -> OpenAIDocumentEmbedder:\n",
    "    return OpenAIDocumentEmbedder(\n",
    "        model=\"text-embedding-3-small\",\n",
    "        api_key=Secret.from_env_var(\"OPENAI_API_KEY\"),\n",
    "        meta_fields_to_embed=[] # Zorgt ervoor dat niet alleen tekst in embedding wordt meegenomen maar ook gespecificeerde metadata. Vet handig voor als je belangrijke metadata genereert.\n",
    "    )\n",
    "    \n",
    "def create_document_writer(docstore) -> DocumentWriter:\n",
    "    return DocumentWriter(document_store=docstore, policy=DuplicatePolicy.OVERWRITE) \n"
   ]
  },
  {
   "cell_type": "markdown",
   "metadata": {},
   "source": [
    "### Pipeline"
   ]
  },
  {
   "cell_type": "code",
   "execution_count": null,
   "metadata": {},
   "outputs": [],
   "source": [
    "from haystack import Pipeline\n",
    "from haystack.components.converters import PyPDFToDocument\n",
    "from haystack.components.preprocessors import DocumentCleaner, DocumentSplitter"
   ]
  },
  {
   "cell_type": "code",
   "execution_count": null,
   "metadata": {},
   "outputs": [],
   "source": [
    "def create_indexing_pipeline() -> Pipeline:\n",
    "    pipeline = Pipeline()\n",
    "    \n",
    "    converter = PyPDFToDocument()\n",
    "    cleaner = DocumentCleaner()\n",
    "    splitter = DocumentSplitter(split_by=\"sentence\", split_length=5)\n",
    "    # enricher = DocumentEnricher() Is for later when we have a defined set of metadata I can generate\n",
    "    embedder = create_document_embedder()\n",
    "    writer = create_document_writer(create_docstore())\n",
    "    \n",
    "    pipeline.add_component(\"converter\", converter)\n",
    "    pipeline.add_component(\"cleaner\", cleaner)\n",
    "    pipeline.add_component(\"splitter\", splitter)\n",
    "    # pipeline.add_component(\"enricher\", enricher)\n",
    "    pipeline.add_component(\"embedder\", embedder)\n",
    "    pipeline.add_component(\"writer\", writer)\n",
    "    \n",
    "    pipeline.connect(\"converter\", \"cleaner\")\n",
    "    pipeline.connect(\"cleaner\", \"splitter\")\n",
    "    # pipeline.connect(\"splitter\", \"enricher\")\n",
    "    pipeline.connect(\"splitter\", \"embedder\")\n",
    "    pipeline.connect(\"embedder\", \"writer\")\n",
    "    "
   ]
  }
 ],
 "metadata": {
  "kernelspec": {
   "display_name": ".venv",
   "language": "python",
   "name": "python3"
  },
  "language_info": {
   "codemirror_mode": {
    "name": "ipython",
    "version": 3
   },
   "file_extension": ".py",
   "mimetype": "text/x-python",
   "name": "python",
   "nbconvert_exporter": "python",
   "pygments_lexer": "ipython3",
   "version": "3.11.4"
  }
 },
 "nbformat": 4,
 "nbformat_minor": 2
}
