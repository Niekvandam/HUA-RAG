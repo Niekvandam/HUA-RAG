{
 "cells": [
  {
   "cell_type": "markdown",
   "metadata": {},
   "source": [
    "# Basic setup"
   ]
  },
  {
   "cell_type": "code",
   "execution_count": 1,
   "metadata": {},
   "outputs": [],
   "source": [
    "from dotenv import load_dotenv\n",
    "import logging\n",
    "import os\n",
    "import sys"
   ]
  },
  {
   "cell_type": "code",
   "execution_count": 2,
   "metadata": {},
   "outputs": [],
   "source": [
    "logging.basicConfig(level=logging.INFO, format='%(asctime)s - %(name)s - %(levelname)s - %(message)s')\n",
    "logger = logging.getLogger(__name__)"
   ]
  },
  {
   "cell_type": "code",
   "execution_count": 3,
   "metadata": {},
   "outputs": [],
   "source": [
    "if not load_dotenv():\n",
    "    logger.error(\"No .env file found\")"
   ]
  },
  {
   "cell_type": "markdown",
   "metadata": {},
   "source": [
    "## Setup Haystack pipeline for querying"
   ]
  },
  {
   "cell_type": "markdown",
   "metadata": {},
   "source": [
    "### Basic imports for pipeline"
   ]
  },
  {
   "cell_type": "code",
   "execution_count": 4,
   "metadata": {},
   "outputs": [
    {
     "name": "stderr",
     "output_type": "stream",
     "text": [
      "e:\\programming\\HUA-rag\\.venv\\Lib\\site-packages\\tqdm\\auto.py:21: TqdmWarning: IProgress not found. Please update jupyter and ipywidgets. See https://ipywidgets.readthedocs.io/en/stable/user_install.html\n",
      "  from .autonotebook import tqdm as notebook_tqdm\n",
      "None of PyTorch, TensorFlow >= 2.0, or Flax have been found. Models won't be available and only tokenizers, configuration and file/data utilities can be used.\n"
     ]
    }
   ],
   "source": [
    "from haystack_integrations.document_stores.pinecone import PineconeDocumentStore\n",
    "from haystack.components.embedders import OpenAIDocumentEmbedder\n",
    "from haystack.utils import Secret\n",
    "from haystack.document_stores.types.policy import DuplicatePolicy\n",
    "from haystack.components.writers import DocumentWriter\n",
    "import os"
   ]
  },
  {
   "cell_type": "code",
   "execution_count": 5,
   "metadata": {},
   "outputs": [],
   "source": [
    "\n",
    "def create_docstore() -> PineconeDocumentStore:\n",
    "    return PineconeDocumentStore(\n",
    "        api_key=Secret.from_env_var(\"PINECONE_API_KEY\"),\n",
    "        index=\"archiefutrecht\", # is nu statisch, raad aan gewoon in .env te zetten\n",
    "        dimension=1536, # text-embedding-3-small\n",
    "    )\n",
    "\n",
    "def create_document_embedder() -> OpenAIDocumentEmbedder:\n",
    "    return OpenAIDocumentEmbedder(\n",
    "        model=\"text-embedding-3-small\",\n",
    "        api_key=Secret.from_env_var(\"OPENAI_API_KEY\"),\n",
    "        meta_fields_to_embed=[] # Zorgt ervoor dat niet alleen tekst in embedding wordt meegenomen maar ook gespecificeerde metadata. Vet handig voor als je belangrijke metadata genereert.\n",
    "    )\n",
    "    \n",
    "def create_document_writer(docstore) -> DocumentWriter:\n",
    "    return DocumentWriter(document_store=docstore, policy=DuplicatePolicy.OVERWRITE) \n"
   ]
  },
  {
   "cell_type": "markdown",
   "metadata": {},
   "source": [
    "## Pipeline setup"
   ]
  },
  {
   "cell_type": "code",
   "execution_count": 6,
   "metadata": {},
   "outputs": [],
   "source": [
    "from haystack import Pipeline\n",
    "from haystack.components.converters import PyPDFToDocument\n",
    "from haystack.components.preprocessors import DocumentCleaner, DocumentSplitter\n",
    "from prompts import QUERY_REPHRASE_TEMPLATE, QUERY_ANSWER_TEMPLATE"
   ]
  },
  {
   "cell_type": "code",
   "execution_count": null,
   "metadata": {},
   "outputs": [],
   "source": []
  },
  {
   "cell_type": "code",
   "execution_count": null,
   "metadata": {},
   "outputs": [],
   "source": [
    "def create_indexing_pipeline() -> Pipeline:\n",
    "    pipeline = Pipeline()\n",
    "\n",
    "    answer_builder = PromptBuilder()\n",
    "    query_rephrase_builder = PromptBuilder()\n",
    "    \n",
    "    rephrase_llm = OpenAIGenerator()\n",
    "    llm = OpenAIGenerator()\n",
    "    \n",
    "    question_embedder = OpenAITextEmbedder()\n",
    "    \n",
    "    pinecone_retriever = get_retriever()\n",
    "    \n",
    "    \n",
    "    return pipeline\n",
    "    "
   ]
  }
 ],
 "metadata": {
  "kernelspec": {
   "display_name": ".venv",
   "language": "python",
   "name": "python3"
  },
  "language_info": {
   "codemirror_mode": {
    "name": "ipython",
    "version": 3
   },
   "file_extension": ".py",
   "mimetype": "text/x-python",
   "name": "python",
   "nbconvert_exporter": "python",
   "pygments_lexer": "ipython3",
   "version": "3.11.4"
  }
 },
 "nbformat": 4,
 "nbformat_minor": 2
}
