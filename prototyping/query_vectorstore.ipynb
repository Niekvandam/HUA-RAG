{
 "cells": [
  {
   "cell_type": "markdown",
   "metadata": {},
   "source": [
    "# Basic setup"
   ]
  },
  {
   "cell_type": "code",
   "execution_count": 1,
   "metadata": {},
   "outputs": [],
   "source": [
    "from dotenv import load_dotenv\n",
    "import logging\n",
    "import os\n",
    "import sys"
   ]
  },
  {
   "cell_type": "code",
   "execution_count": 2,
   "metadata": {},
   "outputs": [],
   "source": [
    "logging.basicConfig(level=logging.INFO, format='%(asctime)s - %(name)s - %(levelname)s - %(message)s')\n",
    "logger = logging.getLogger(__name__)"
   ]
  },
  {
   "cell_type": "code",
   "execution_count": 3,
   "metadata": {},
   "outputs": [],
   "source": [
    "if not load_dotenv():\n",
    "    logger.error(\"No .env file found\")"
   ]
  },
  {
   "cell_type": "markdown",
   "metadata": {},
   "source": [
    "## Setup Haystack pipeline for querying"
   ]
  },
  {
   "cell_type": "markdown",
   "metadata": {},
   "source": [
    "### Basic imports for pipeline"
   ]
  },
  {
   "cell_type": "code",
   "execution_count": 4,
   "metadata": {},
   "outputs": [
    {
     "name": "stderr",
     "output_type": "stream",
     "text": [
      "e:\\programming\\HUA-rag\\.venv\\Lib\\site-packages\\tqdm\\auto.py:21: TqdmWarning: IProgress not found. Please update jupyter and ipywidgets. See https://ipywidgets.readthedocs.io/en/stable/user_install.html\n",
      "  from .autonotebook import tqdm as notebook_tqdm\n",
      "None of PyTorch, TensorFlow >= 2.0, or Flax have been found. Models won't be available and only tokenizers, configuration and file/data utilities can be used.\n"
     ]
    }
   ],
   "source": [
    "from haystack_integrations.document_stores.pinecone import PineconeDocumentStore\n",
    "from haystack.components.embedders import OpenAIDocumentEmbedder\n",
    "from haystack.utils import Secret\n",
    "from haystack.document_stores.types.policy import DuplicatePolicy\n",
    "from haystack.components.writers import DocumentWriter\n",
    "import os"
   ]
  },
  {
   "cell_type": "code",
   "execution_count": 5,
   "metadata": {},
   "outputs": [],
   "source": [
    "\n",
    "def create_docstore() -> PineconeDocumentStore:\n",
    "    return PineconeDocumentStore(\n",
    "        api_key=Secret.from_env_var(\"PINECONE_API_KEY\"),\n",
    "        index=\"archiefutrecht\", # is nu statisch, raad aan gewoon in .env te zetten\n",
    "        dimension=1536, # text-embedding-3-small\n",
    "    )\n",
    "\n",
    "def create_document_embedder() -> OpenAIDocumentEmbedder:\n",
    "    return OpenAIDocumentEmbedder(\n",
    "        model=\"text-embedding-3-small\",\n",
    "        api_key=Secret.from_env_var(\"OPENAI_API_KEY\"),\n",
    "        meta_fields_to_embed=[] # Zorgt ervoor dat niet alleen tekst in embedding wordt meegenomen maar ook gespecificeerde metadata. Vet handig voor als je belangrijke metadata genereert.\n",
    "    )\n",
    "    \n",
    "def create_document_writer(docstore) -> DocumentWriter:\n",
    "    return DocumentWriter(document_store=docstore, policy=DuplicatePolicy.OVERWRITE) \n"
   ]
  },
  {
   "cell_type": "markdown",
   "metadata": {},
   "source": [
    "## Pipeline setup"
   ]
  },
  {
   "cell_type": "code",
   "execution_count": 6,
   "metadata": {},
   "outputs": [
    {
     "name": "stderr",
     "output_type": "stream",
     "text": [
      "None of PyTorch, TensorFlow >= 2.0, or Flax have been found. Models won't be available and only tokenizers, configuration and file/data utilities can be used.\n"
     ]
    }
   ],
   "source": [
    "from haystack.components.builders import PromptBuilder\n",
    "from haystack.components.generators import OpenAIGenerator\n",
    "from haystack.components.embedders import OpenAITextEmbedder\n",
    "from prompts import QUERY_REPHRASE_TEMPLATE, QUERY_ANSWER_TEMPLATE\n",
    "from haystack.components.preprocessors import DocumentCleaner, DocumentSplitter\n",
    "from haystack.components.converters import PyPDFToDocument\n",
    "from haystack import Pipeline\n",
    "from haystack.components.converters import OutputAdapter\n",
    "from haystack_integrations.components.retrievers.pinecone import PineconeEmbeddingRetriever"
   ]
  },
  {
   "cell_type": "code",
   "execution_count": 7,
   "metadata": {},
   "outputs": [],
   "source": [
    "def create_openai_generator() -> OpenAIGenerator:\n",
    "    OpenAIGenerator()\n",
    "    \n",
    "# deze embedder heeft geen meta want we gaan enkel de vraag embedden voor similarity search\n",
    "def create_document_embedder() -> OpenAIDocumentEmbedder:\n",
    "    return OpenAIDocumentEmbedder(\n",
    "        model=\"text-embedding-3-small\",\n",
    "        api_key=Secret.from_env_var(\"OPENAI_API_KEY\"),\n",
    "    )\n",
    "    \n",
    "def create_text_embedder() -> OpenAITextEmbedder:\n",
    "    return OpenAITextEmbedder(\n",
    "        model=\"text-embedding-3-small\",\n",
    "        api_key=Secret.from_env_var(\"OPENAI_API_KEY\"),\n",
    "    )\n",
    "    \n",
    "def create_docstore() -> PineconeDocumentStore:\n",
    "    return PineconeDocumentStore(\n",
    "        api_key=Secret.from_env_var(\"PINECONE_API_KEY\"),\n",
    "        index=\"archiefutrecht\", # is nu statisch, raad aan gewoon in .env te zetten\n",
    "        dimension=1536, # text-embedding-3-small\n",
    "    )\n",
    "    \n",
    "def create_pinecone_retriever() -> PineconeEmbeddingRetriever:\n",
    "    return PineconeEmbeddingRetriever(\n",
    "        document_store=create_docstore()\n",
    "    )\n",
    "    \n",
    "def create_llm_output_adapter() -> OutputAdapter:\n",
    "    return OutputAdapter(\n",
    "        template=\"{{ replies [0] }}\",\n",
    "        output_type=str\n",
    "    )"
   ]
  },
  {
   "cell_type": "code",
   "execution_count": 8,
   "metadata": {},
   "outputs": [],
   "source": [
    "def create_qa_pipeline() -> Pipeline:\n",
    "    pipeline = Pipeline()\n",
    "\n",
    "    query_rephrase_builder = PromptBuilder(template=QUERY_REPHRASE_TEMPLATE)\n",
    "    answer_builder = PromptBuilder(template=QUERY_ANSWER_TEMPLATE)\n",
    "    \n",
    "    \n",
    "    rephrase_llm = OpenAIGenerator()\n",
    "    answer_llm = OpenAIGenerator()\n",
    "    \n",
    "    rephrase_output_adapter = create_llm_output_adapter()\n",
    "    \n",
    "    question_embedder = create_text_embedder()\n",
    "    pinecone_retriever = create_pinecone_retriever()\n",
    "\n",
    "    pipeline.add_component(\"query_rephrase_builder\", query_rephrase_builder)\n",
    "    pipeline.add_component(\"rephrase_output_adapter\", rephrase_output_adapter)\n",
    "    pipeline.add_component(\"answer_builder\", answer_builder)\n",
    "    pipeline.add_component(\"rephrase_llm\", rephrase_llm)\n",
    "    pipeline.add_component(\"answer_llm\", answer_llm)\n",
    "    pipeline.add_component(\"question_embedder\", question_embedder)\n",
    "    pipeline.add_component(\"pinecone_retriever\", pinecone_retriever)\n",
    "    \n",
    "    pipeline.connect(\"query_rephrase_builder\", \"rephrase_llm\")\n",
    "    pipeline.connect(\"rephrase_llm\", \"rephrase_output_adapter\")\n",
    "    pipeline.connect(\"rephrase_output_adapter\", \"question_embedder\")\n",
    "    pipeline.connect(\"question_embedder.embedding\", \"pinecone_retriever.query_embedding\")\n",
    "    pipeline.connect(\"pinecone_retriever\", \"answer_builder\")\n",
    "    pipeline.connect(\"answer_builder\", \"answer_llm\")\n",
    "    \n",
    "    \n",
    "    return pipeline\n",
    "    "
   ]
  },
  {
   "cell_type": "code",
   "execution_count": null,
   "metadata": {},
   "outputs": [
    {
     "name": "stderr",
     "output_type": "stream",
     "text": [
      "2024-12-18 12:24:01,526 - haystack.core.pipeline.pipeline - INFO - Running component query_rephrase_builder\n",
      "2024-12-18 12:24:01,527 - haystack.core.pipeline.pipeline - INFO - Running component rephrase_llm\n",
      "2024-12-18 12:24:02,349 - httpx - INFO - HTTP Request: POST https://api.openai.com/v1/chat/completions \"HTTP/1.1 200 OK\"\n",
      "2024-12-18 12:24:02,353 - haystack.core.pipeline.pipeline - INFO - Running component rephrase_output_adapter\n",
      "2024-12-18 12:24:02,355 - haystack.core.pipeline.pipeline - INFO - Running component question_embedder\n",
      "2024-12-18 12:24:02,795 - httpx - INFO - HTTP Request: POST https://api.openai.com/v1/embeddings \"HTTP/1.1 200 OK\"\n",
      "2024-12-18 12:24:02,797 - haystack.core.pipeline.pipeline - INFO - Running component pinecone_retriever\n",
      "2024-12-18 12:24:02,799 - pinecone_plugin_interface.logging - INFO - Discovering subpackages in _NamespacePath(['e:\\\\programming\\\\HUA-rag\\\\.venv\\\\Lib\\\\site-packages\\\\pinecone_plugins'])\n",
      "2024-12-18 12:24:02,799 - pinecone_plugin_interface.logging - INFO - Looking for plugins in pinecone_plugins.inference\n",
      "2024-12-18 12:24:02,818 - pinecone_plugin_interface.logging - INFO - Installing plugin inference into Pinecone\n",
      "2024-12-18 12:24:03,049 - haystack_integrations.document_stores.pinecone.document_store - INFO - Connecting to existing index archiefutrecht. `dimension`, `spec`, and `metric` will be ignored.\n",
      "2024-12-18 12:24:03,425 - haystack.core.pipeline.pipeline - INFO - Running component answer_builder\n",
      "2024-12-18 12:24:03,426 - haystack.core.pipeline.pipeline - INFO - Running component answer_llm\n",
      "2024-12-18 12:24:04,514 - httpx - INFO - HTTP Request: POST https://api.openai.com/v1/chat/completions \"HTTP/1.1 200 OK\"\n"
     ]
    }
   ],
   "source": [
    "query=\"Wat is amerongen?\"\n",
    "\n",
    "response = pipeline = create_qa_pipeline().run(data={\n",
    "    \"query_rephrase_builder\": {\"query\": query}\n",
    "})"
   ]
  },
  {
   "cell_type": "code",
   "execution_count": null,
   "metadata": {},
   "outputs": [],
   "source": []
  }
 ],
 "metadata": {
  "kernelspec": {
   "display_name": ".venv",
   "language": "python",
   "name": "python3"
  },
  "language_info": {
   "codemirror_mode": {
    "name": "ipython",
    "version": 3
   },
   "file_extension": ".py",
   "mimetype": "text/x-python",
   "name": "python",
   "nbconvert_exporter": "python",
   "pygments_lexer": "ipython3",
   "version": "3.11.4"
  }
 },
 "nbformat": 4,
 "nbformat_minor": 2
}
